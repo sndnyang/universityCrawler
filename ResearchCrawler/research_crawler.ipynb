{
 "cells": [
  {
   "cell_type": "code",
   "execution_count": 1,
   "metadata": {
    "collapsed": true
   },
   "outputs": [],
   "source": [
    "import sys\n",
    "sys.path.append(r\"G:\\project\\map\\wsgi\\mindmap\\oversea\")"
   ]
  },
  {
   "cell_type": "code",
   "execution_count": 2,
   "metadata": {
    "collapsed": true
   },
   "outputs": [],
   "source": [
    "from trim_models import *"
   ]
  },
  {
   "cell_type": "code",
   "execution_count": 30,
   "metadata": {},
   "outputs": [
    {
     "name": "stdout",
     "output_type": "stream",
     "text": [
      "Illinois Institute of Technology (IIT Chicago)\n",
      "Binghamton University(Binghamton)\n",
      "Colorado School of Mines (CSM Mines)\n",
      "University of Nevada - Reno(UNR)\n",
      "University of Central Florida (UCF)\n",
      "Southern Illinois University Carbondale(SIUC)\n",
      "University of Kansas (U. Kansas)\n",
      "Mississippi State University (Missi. SU)\n",
      "Ball State University (Ball State)\n",
      "Washington State University (Wshgton SU)\n",
      "The City College of New York, CUNY (CCNY)\n",
      "Colorado School of Mines (CSM Mines)\n",
      "University of Pittsburgh (UPitt)\n",
      "University of Pittsburgh (UPitt)\n",
      "Texas Tech University (TTU Whitcre)\n",
      "Virginia Commonwealth University (VCU)\n",
      "Cleveland State University (Cleveland)\n",
      "University of South Florida (USF)\n",
      "University of Louisiana at Lafayette (U.SW Louisi)\n",
      "University of South Carolina (U. South Car)\n",
      "University of Central Florida (UCF)\n",
      "University of Kansas (U. Kansas)\n",
      "Iowa State University (Iowa State)\n",
      "Illinois Institute of Technology (IIT Chicago)\n",
      "University of Massachusetts Amherst(UMA)\n",
      "Colorado State University (Col.SU)\n"
     ]
    }
   ],
   "source": [
    "task_list = CrawlTask.query.all()\n",
    "urls = []\n",
    "examples = []\n",
    "for task in task_list:\n",
    "    print task.school\n",
    "    urls.append(task.school_url)\n",
    "    examples.append(task.example)"
   ]
  },
  {
   "cell_type": "code",
   "execution_count": 29,
   "metadata": {
    "collapsed": true
   },
   "outputs": [],
   "source": [
    "urls = ['http://cs.mines.edu/CS-Faculty',\n",
    "            'http://science.iit.edu/computer-science/people/faculty',\n",
    "            'http://cms.bsu.edu/academics/collegesanddepartments/computerscience/facultyandstaff/faculty',\n",
    "            'http://www.memphis.edu/cs/people/index.php',\n",
    "            'http://www.smu.edu/Lyle/Departments/CSE/People/Faculty',\n",
    "            'https://www.csuohio.edu/engineering/eecs/faculty-staff',\n",
    "            'http://computerscience.engineering.unt.edu/content/faculty',\n",
    "            'https://www.odu.edu/compsci/research',\n",
    "            'http://www.cs.ucf.edu/people/index.php',\n",
    "            'https://www.binghamton.edu/cs/people/faculty-and-staff.html',\n",
    "            'http://www.lsu.edu/eng/ece/people/index.php',\n",
    "        'http://www.uwyo.edu/cosc/cosc-directory/',\n",
    "        'http://www.cs.siu.edu/faculty-staff/continuing_faculty.php',\n",
    "        'https://www.uml.edu/Sciences/computer-science/faculty/',\n",
    "        'http://cs.gsu.edu/role/faculty/',\n",
    "        'http://www.eecs.ku.edu/people/faculty',\n",
    "        'http://www.cs.iastate.edu/people',\n",
    "        'http://www.sc.edu/study/colleges_schools/engineering_and_computing/study/areas_of_study/computer_science_and_engineering/our_people/index.php',\n",
    "        'http://cs.mst.edu/facultystaffandfacilities/facultydirectory/',\n",
    "        'https://www.lsu.edu/eng/cse/people/faculty/index.php',\n",
    "        'http://www.cse.msstate.edu/People/Faculty/faculty-staff.php',\n",
    "        'http://soc.fit.edu/faculty-and-staff.php',\n",
    "        'http://www.mtu.edu/cs/department/faculty-staff/',\n",
    "        'https://www.ccny.cuny.edu/people?cat=All&school=21&dept=68',\n",
    "        'https://www.cise.ufl.edu/people/faculty',\n",
    "        'http://www.depts.ttu.edu/cs/faculty/',\n",
    "        'http://www.engineering.pitt.edu/Departments/Electrical-Computer/Faculty/',\n",
    "        'https://egr.vcu.edu/departments/computer/people/faculty/',\n",
    "        'http://cs.utdallas.edu/people/faculty/',\n",
    "        'http://www.usf.edu/engineering/cse/people/index.aspx',\n",
    "            ]\n",
    "examples = ['https://inside.mines.edu/CS-Faculty-and-Staff/TracyCamp',\n",
    "            'http://science.iit.edu/people/faculty/eunice-santos',\n",
    "            'http://cms.bsu.edu/academics/collegesanddepartments/computerscience/facultyandstaff/faculty/buispaul',\n",
    "            'http://www.memphis.edu/cs/people/faculty_pages/william-baggett.php',\n",
    "            'http://www.smu.edu/Lyle/Departments/CSE/People/Faculty/ThorntonMitchell',\n",
    "            'https://www.csuohio.edu/engineering/charles-k-alexander-professor',\n",
    "            'http://www.cse.unt.edu/~rakl',\n",
    "            'https://www.odu.edu/directory/people/a/achernik',\n",
    "            'http://www.cs.ucf.edu/~bagci',\n",
    "            'https://www.binghamton.edu/cs/people/kchiu.html',\n",
    "            'http://www.lsu.edu/eng/ece/people/Faculty/brown.php',\n",
    "            'http://www.uwyo.edu/cosc/cosc-directory/jlc/index.html',\n",
    "            'http://www.cs.siu.edu/~abosu',\n",
    "            'https://www.uml.edu/Sciences/computer-science/faculty/levkowitz-haim.aspx',\n",
    "            'http://cs.gsu.edu/profile/rafal-angryk/',\n",
    "            'http://people.ku.edu/~agah/',\n",
    "            'http://www.cs.iastate.edu/people/pavan-aduri',\n",
    "            'http://www.sc.edu/study/colleges_schools/engineering_and_computing/faculty-staff/jasonbakos.php',\n",
    "            'http://cs.mst.edu/facultystaffandfacilities/jiang/',\n",
    "            'https://www.lsu.edu/eng/cse/people/faculty/karki.php',\n",
    "            'http://www.cse.msstate.edu/People/Faculty/rikk-anderson.php',\n",
    "            'http://www.fit.edu/faculty/profiles/profile.php?tracks=wallen',\n",
    "            'http://www.mtu.edu/cs/department/faculty-staff/faculty/brown/',\n",
    "            'https://www.ccny.cuny.edu/profiles/michael-anshel',\n",
    "            'https://www.cise.ufl.edu/people/faculty/lanthony',\n",
    "            'http://www.depts.ttu.edu/CS/faculty/faculty.php?name=Yong%20Chen',\n",
    "            'http://www.engineering.pitt.edu/Departments/Electrical-Computer/Faculty/George,-Alan-D-/',\n",
    "            'http://egr.vcu.edu/directory/tomasz.arodz/',\n",
    "            'http://cs.utdallas.edu/?p=2507',\n",
    "            'http://www.usf.edu/engineering/cse/people/andujar-marvin.aspx',\n",
    "            ]\n",
    "\n",
    "url_check = {'http://cs.mines.edu/CS-Faculty': 15,\n",
    "             'http://science.iit.edu/computer-science/people/faculty': 52,\n",
    "             'http://cms.bsu.edu/academics/collegesanddepartments/computerscience/facultyandstaff/faculty': 19,\n",
    "             'http://www.memphis.edu/cs/people/index.php': 16,\n",
    "             'http://www.smu.edu/Lyle/Departments/CSE/People/Faculty': 17,\n",
    "             'https://www.csuohio.edu/engineering/eecs/faculty-staff': 32,\n",
    "             'http://computerscience.engineering.unt.edu/content/faculty': 34,\n",
    "             'https://www.odu.edu/compsci/research': 15,\n",
    "             'http://www.cs.ucf.edu/people/index.php': 54,\n",
    "             'https://www.binghamton.edu/cs/people/faculty-and-staff.html': 33,\n",
    "             'http://www.lsu.edu/eng/ece/people/index.php': 34,\n",
    "             'http://www.uwyo.edu/cosc/cosc-directory/': 11,\n",
    "             'http://www.cs.siu.edu/faculty-staff/continuing_faculty.php': 10,\n",
    "             'https://www.uml.edu/Sciences/computer-science/faculty/': 18,\n",
    "             'http://cs.gsu.edu/role/faculty/': 31,\n",
    "             'http://www.eecs.ku.edu/people/faculty': 56,\n",
    "             'http://www.cs.iastate.edu/people': 51,\n",
    "             'http://www.sc.edu/study/colleges_schools/engineering_and_computing/study/areas_of_study/computer_science_and_engineering/our_people/index.php': 44,\n",
    "             'http://cs.mst.edu/facultystaffandfacilities/facultydirectory/': 30,\n",
    "             'https://www.lsu.edu/eng/cse/people/faculty/index.php': 32,\n",
    "             'http://www.cse.msstate.edu/People/Faculty/faculty-staff.php': 21,\n",
    "             'http://soc.fit.edu/faculty-and-staff.php': 14,\n",
    "             'http://www.mtu.edu/cs/department/faculty-staff/': 27,\n",
    "             'https://www.ccny.cuny.edu/people?cat=All&school=21&dept=68': 10,\n",
    "             'https://www.cise.ufl.edu/people/faculty': 1,\n",
    "             'http://www.depts.ttu.edu/cs/faculty/': 16,\n",
    "             'http://www.engineering.pitt.edu/Departments/Electrical-Computer/Faculty/': 20,\n",
    "             'https://egr.vcu.edu/departments/computer/people/faculty/': 5,\n",
    "             'http://cs.utdallas.edu/people/faculty/': 1,\n",
    "             'http://www.usf.edu/engineering/cse/people/index.aspx': 10,\n",
    "             }"
   ]
  },
  {
   "cell_type": "code",
   "execution_count": 56,
   "metadata": {},
   "outputs": [
    {
     "data": {
      "text/plain": [
       "<module 'crawler' from 'G:\\project\\map\\wsgi\\mindmap\\oversea\\crawler.py'>"
      ]
     },
     "execution_count": 56,
     "metadata": {},
     "output_type": "execute_result"
    }
   ],
   "source": [
    "\n",
    "import crawler\n",
    "reload(crawler)\n"
   ]
  },
  {
   "cell_type": "code",
   "execution_count": 57,
   "metadata": {
    "scrolled": true
   },
   "outputs": [
    {
     "name": "stdout",
     "output_type": "stream",
     "text": [
      "25\n",
      "25 https://www.cs.colostate.edu/cstop/cspeople/csfacultyandstaff.php\n",
      "3 http://www.cs.colostate.edu/~bieman/\n",
      "page_url: http://www.cs.colostate.edu/~bieman/\n",
      " href: mailto:bieman(at)colostate.edu\n",
      " search it ok : mailto:bieman(at)colostate.edu\n",
      " href: http://www.cs.colostate.edu/~bieman/for-students.html\n",
      " href: http://www.cs.colostate.edu/remodd/\n",
      " href: http://www.cs.colostate.edu/hpc/SAXS/\n",
      " href: http://www.cs.colostate.edu/ddss\n",
      " href: http://www.eecs.qmul.ac.uk/~norman/metrics_book/book.html\n",
      " href: http://www.cs.colostate.edu/~bieman/pubs.html\n",
      " href: http://scholar.google.com/citations?user=PbQ8dzsAAAAJ\n",
      " href: http://www.cs.colostate.edu/~cs514/\n",
      " href: http://www.cs.colostate.edu/~cs514dl/\n",
      " href: http://www.cs.colostate.edu/~bieman/erdos.html\n",
      " href: http://www.cs.colostate.edu/\n",
      "[u'dengue fever']\n",
      "False\n",
      "\n"
     ]
    }
   ],
   "source": [
    "def test_single(i, start = None):\n",
    "    directory_url = urls[i]\n",
    "    example = examples[i]\n",
    "    print i, directory_url #, example\n",
    "    c = crawler.ResearchCrawler(directory_url, example)\n",
    "    count, l = c.crawl_faculty_list(directory_url, example)\n",
    "    # print count, url_check[directory_url]\n",
    "    # print c.key_words[u'一段研究兴趣的起始词']\n",
    "    #for e in l:\n",
    "    #    print e.get(\"class\"), e.parent.get(\"class\")\n",
    "    #assert url_check[directory_url] <= count, \" not beyond\"\n",
    "    faculty_list = []\n",
    "    \n",
    "    if start is None:\n",
    "        end = len(l)\n",
    "    else:\n",
    "        end = start + 1\n",
    "        \n",
    "    for e in l[start:end]:\n",
    "        print l.index(e), e.get('href')\n",
    "        # print e.get_text()\n",
    "        x = c.dive_into_page(e, True)\n",
    "        \n",
    "        #print x['name']\n",
    "        print x['tags']\n",
    "        print x['position']\n",
    "        # print x[u'招生意向说明部分原文']\n",
    "        #return c, e\n",
    "        #print x['link']\n",
    "        print x['website']\n",
    "        # print x['source_name']\n",
    "        #faculty_list.append(x)\n",
    "    #return faculty_list, c\n",
    "\n",
    "crawler.debug_level = \" \" + \" website\"\n",
    "# faculty_list, c = test_single(12)`\n",
    "name = 'colostate'\n",
    "index = 3\n",
    "for i in range(len(urls)):\n",
    "    if urls[i].find(name) > 1:\n",
    "        print i\n",
    "        t = test_single(i, index)"
   ]
  },
  {
   "cell_type": "code",
   "execution_count": 42,
   "metadata": {},
   "outputs": [
    {
     "data": {
      "text/plain": [
       "'http://www.colostate.edu/'"
      ]
     },
     "execution_count": 42,
     "metadata": {},
     "output_type": "execute_result"
    }
   ],
   "source": [
    "import urlparse\n",
    "\n",
    "x = \"http://www.cs.colostate.edu/~ross/\"\n",
    "y = \"http://www.colostate.edu/\"\n",
    "urlparse.urljoin(x, y)"
   ]
  },
  {
   "cell_type": "code",
   "execution_count": 55,
   "metadata": {},
   "outputs": [
    {
     "name": "stdout",
     "output_type": "stream",
     "text": [
      "Research</span> Interests</b> &nbsp;&nbsp;&nbsp;&nbsp;&nbsp;\n"
     ]
    }
   ],
   "source": [
    "import urllib2\n",
    "href = \"Research</span> Interests</b> &nbsp;&nbsp;&nbsp;&nbsp;&nbsp;\"\n",
    "href = urllib2.unquote(href.strip())\n",
    "print href"
   ]
  },
  {
   "cell_type": "code",
   "execution_count": 30,
   "metadata": {
    "collapsed": true
   },
   "outputs": [],
   "source": [
    "import re\n",
    "x = 'Zhenlin..    Wang.Professor, PhD.Department of Computer Science.Michigan Technological University.Houghton, MI 49931.Office:.Rekhi.207.Work phone.:  (.906) 487-2187.Fax: (906) 487-2283.Email:.zlwang.AT.mtu.DOT.edu.Research.Publications.Teaching.Students.Awards.Courses.Office hours (Fall 2017): MW 1-2..PM.CS4130 Compiler Design and Optimization..(Canvas).CS5130 Compiler Design, Theory and..Optimization (Canvas).Previously..Taught.Research Interests.Datacenter resource management.Memory system architecture and..     optimization.Programming languages, compiler..     optimizations, and data Locality.High performance computing.Parallel languages, multi-threaded..     programming.Virtualization and cloud computing.Projects.Resource prediction and management for..     datacenter.Key-value store design and management.Cooperative memory management for VM..     and JVM.GPU optimization.Modeling and predicting temporal and..     spatial reuses.Compiling UPC for multi-core systems.Past Projects.Scale.DaCapo.TRIPS.Impulse.Students.Wei.Kuang.(PhD Candidate).Jason.Hiebel.(PhD Candidate, co-advisor).Daniel Byrne (PhD student,..co-advisor).Haitang.Duan.(MS, 2017).Bo Yu (MS, 2016).Liang Yan (MS, 2015).Trevor Fisher (MS, 2013).Wei Wang (PhD Candidate,..co-advisor).Weiming.Zhao.(PhD,..2011).Justin.Splepak.(MS, 2011, co-advisor).Dustin Larson (MS, 2011,..co-advisor).Tongfeng.Wang (MS, 2011).Steve.Vormwald.(MS, 2010, co-advisor).Changpeng.Fang (PhD, 2006, co-advisor).Sandesh.Kubhmar.(MS, 2008).Mingsong.Bi (MS 2007).Mark.Malek.(MS, 2005).Da Gao (MS, 2005).Awards.NSF..  CSR1618384., 2016-2019.Effective Sampling-Based Miss..  Ratio Curves: Theory and Practice.National Science..  Foundation.Computer..  System Research Program.NSF..  CSR1422342., 2014-2017.Adaptive Memory Resource..  Management in Data Center - A Transfer Learning Approach.National Science..  Foundation.Computer..  System Research Program.NSF..  Career.0643664.,..  2007-2012.Modeling Data Locality for..  Next Generation Systems.National Science..  Foundation.Computing..  Processes and Artifacts Program'"
   ]
  },
  {
   "cell_type": "code",
   "execution_count": 45,
   "metadata": {},
   "outputs": [
    {
     "name": "stdout",
     "output_type": "stream",
     "text": [
      "(433, 451)\n"
     ]
    },
    {
     "data": {
      "text/plain": [
       "'Datacenter resource management.Memory system architecture and..     optimization.Programming languages, compiler..     optimizations, and data Locality.High performance computing.Parallel languages, multi-threaded..     programming.Virtualization and cloud computing.Projects.Resource prediction and management for..     datacenter.Key-value store design and management.Cooperative memory management for VM..     and JVM.GPU optimization.Modeling and predicting temporal and..     spatial reuses.Compiling UPC for multi-core systems.Past Projects.Scale.DaCapo.TRIPS.Impulse.Students.Wei.Kuang.(PhD Candidate).Jason.Hiebel.(PhD Candidate, co-advisor).Daniel Byrne (PhD student,..co-advisor).Haitang.Duan.(MS, 2017).Bo Yu (MS, 2016).Liang Yan (MS, 2015).Trevor Fisher (MS, 2013).Wei Wang (PhD Candidate,..co-advisor).Weiming.Zhao.(PhD,..2011).Justin.Splepak.(MS, 2011, co-advisor).Dustin Larson (MS, 2011,..co-advisor).Tongfeng.Wang (MS, 2011).Steve.Vormwald.(MS, 2010, co-advisor).Changpeng.Fang (PhD, 2006, co-advisor).Sandesh.Kubhmar.(MS, 2008).Mingsong.Bi (MS 2007).Mark.Malek.(MS, 2005).Da Gao (MS, 2005).Awards.NSF..  CSR1618384., 2016-2019.Effective Sampling-Based Miss..  Ratio Curves: Theory and Practice.National Science..  Foundation.Computer..  System Research Program.NSF..  CSR1422342., 2014-2017.Adaptive Memory Resource..  Management in Data Center - A Transfer Learning Approach.National Science..  Foundation.Computer..  System Research Program.NSF..  Career.0643664.,..  2007-2012.Modeling Data Locality for..  Next Generation Systems.National Science..  Foundation.Computing..  Processes and Artifacts Program'"
      ]
     },
     "execution_count": 45,
     "metadata": {},
     "output_type": "execute_result"
    }
   ],
   "source": [
    "z = [u'research interests?', u'focuses on', u'focus on', u'spans', u'research includes', u'interests include', u'interest includes', u'Interests:', u'interests are:', u'is in', u'are in', u'I research', u'applications of', u'such as', u'areas of', u'fields of', u'interests are', u'I am interested in', u'lie at the intersection of', u'interests lie in', u'am interested in']\n",
    "crawler.select_line_part(x, z)"
   ]
  },
  {
   "cell_type": "code",
   "execution_count": 23,
   "metadata": {},
   "outputs": [
    {
     "name": "stdout",
     "output_type": "stream",
     "text": [
      ", signal processing to render 3D audio\n",
      ", signal processing , render 3D audio\n"
     ]
    }
   ],
   "source": [
    "words = ['utilizing', 'to']\n",
    "line = x\n",
    "for w in words:\n",
    "    line = re.sub(r'\\b%s\\b' % w + '(?i)', ',', line, re.I)\n",
    "    print line"
   ]
  },
  {
   "cell_type": "code",
   "execution_count": null,
   "metadata": {
    "collapsed": true
   },
   "outputs": [],
   "source": [
    "import re"
   ]
  },
  {
   "cell_type": "code",
   "execution_count": 30,
   "metadata": {},
   "outputs": [
    {
     "name": "stdout",
     "output_type": "stream",
     "text": [
      "94\n",
      "62\n"
     ]
    }
   ],
   "source": [
    "name = \"usf\"\n",
    "index_url = \"http://www.usf.edu/\"\n",
    "c = crawler.CollegeCrawler(name, index_url)\n",
    "crawler.debug_level = \" \" + \" \"\n",
    "l = c.crawl_bfs([index_url])\n",
    "print len(l)"
   ]
  },
  {
   "cell_type": "code",
   "execution_count": 37,
   "metadata": {},
   "outputs": [
    {
     "data": {
      "text/plain": [
       "True"
      ]
     },
     "execution_count": 37,
     "metadata": {},
     "output_type": "execute_result"
    }
   ],
   "source": [
    "x = \"[TA/RA positions in PhD program] I am looking for self-motivated, creative and hard-working Ph.D. students. Please feel free to email me your CV if you are interested in my research. Missouri S&T; is classified as: Doctoral Universities - Higher Research Activity and is ranked:  #63 (tie) in Engineering Programs (doctorate) according to the 2017 US news ranking and #112 in Computer Science according to US news CS ranking.\"\n",
    "contain_keys(x, t, True)"
   ]
  },
  {
   "cell_type": "code",
   "execution_count": 35,
   "metadata": {},
   "outputs": [
    {
     "data": {
      "text/plain": [
       "True"
      ]
     },
     "execution_count": 35,
     "metadata": {},
     "output_type": "execute_result"
    }
   ],
   "source": [
    "t = [\"position available\", \"available for\", \"looking for [a-zA-Z- \\.,]*students\", \"Interested PhD\", \"recruiting\", \"accepting [\\\\w\\\\s]*students\"]\n",
    "\n",
    "contain_keys(x, t, True)"
   ]
  },
  {
   "cell_type": "code",
   "execution_count": 21,
   "metadata": {},
   "outputs": [
    {
     "data": {
      "text/plain": [
       "'http://web.cse.msstate.edu/%7Eszhang/'"
      ]
     },
     "execution_count": 21,
     "metadata": {},
     "output_type": "execute_result"
    }
   ],
   "source": [
    "import HTMLParser\n",
    "html_parser = HTMLParser.HTMLParser()\n",
    "s = 'http://web.cse.msstate.edu/%7Eszhang/'\n",
    "html_parser.unescape(s)"
   ]
  },
  {
   "cell_type": "code",
   "execution_count": 36,
   "metadata": {},
   "outputs": [
    {
     "data": {
      "text/plain": [
       "True"
      ]
     },
     "execution_count": 36,
     "metadata": {},
     "output_type": "execute_result"
    }
   ],
   "source": [
    "contain_keys(x, t, True)"
   ]
  },
  {
   "cell_type": "code",
   "execution_count": null,
   "metadata": {
    "collapsed": true
   },
   "outputs": [],
   "source": [
    "anchors = find_all_anchor(soup)\n",
    "faculty_page, mail, page_name = c.get_personal_website(anchors, \n",
    "        faculty_link, person['name'])\n"
   ]
  },
  {
   "cell_type": "code",
   "execution_count": null,
   "metadata": {
    "collapsed": true
   },
   "outputs": [],
   "source": [
    "faculty_page"
   ]
  },
  {
   "cell_type": "code",
   "execution_count": null,
   "metadata": {
    "collapsed": true
   },
   "outputs": [],
   "source": [
    "page_c, page_soup = c.open_page(faculty_page)"
   ]
  },
  {
   "cell_type": "code",
   "execution_count": null,
   "metadata": {
    "collapsed": true
   },
   "outputs": [],
   "source": [
    "words = \"(%s)\" % '|'.join(e for e in c.key_words[u'其他可能的研究兴趣短语'])\n",
    "\n",
    "result = soup.find_all(string=re.compile(words, re.I))\n",
    "print len(result)"
   ]
  },
  {
   "cell_type": "code",
   "execution_count": null,
   "metadata": {
    "collapsed": true
   },
   "outputs": [],
   "source": [
    "node = result[0]"
   ]
  },
  {
   "cell_type": "code",
   "execution_count": null,
   "metadata": {
    "collapsed": true
   },
   "outputs": [],
   "source": [
    "re.sub(r\"(<\\w+[^>]*>)\", \".\", \"<strong>\", re.M)"
   ]
  },
  {
   "cell_type": "code",
   "execution_count": null,
   "metadata": {
    "collapsed": true
   },
   "outputs": [],
   "source": [
    "pattern = re.compile(r\"(<.+>)\")\n",
    "z = pattern.sub(\".\", unicode(node).strip(), re.M)"
   ]
  },
  {
   "cell_type": "code",
   "execution_count": null,
   "metadata": {
    "collapsed": true
   },
   "outputs": [],
   "source": [
    "pattern.sub(\".\", z,count=100)"
   ]
  },
  {
   "cell_type": "code",
   "execution_count": null,
   "metadata": {
    "collapsed": true
   },
   "outputs": [],
   "source": [
    "import os\n",
    "import json\n",
    "def save_case(faclist, c):\n",
    "    dir_name = \"test_case/\" + c.university_name\n",
    "    if not os.path.isdir(dir_name):\n",
    "        os.makedirs(dir_name)\n",
    "    with open(os.path.join(dir_name, \"data.json\"), \"w\") as fp:\n",
    "        json.dump(faclist, fp)\n",
    "save_case(faculty_list, c)"
   ]
  },
  {
   "cell_type": "code",
   "execution_count": null,
   "metadata": {
    "collapsed": true
   },
   "outputs": [],
   "source": [
    "x = \"I am looking for hardworking, creative, and self-motivated graduate (PhD & Master’s) and undergraduate students with interests in artificial intelligence, machine learning, and robotics.\"\n",
    "\n",
    "print re.search(\"looking for [\\\\w\\\\s\\\\.-]*students\", x)"
   ]
  },
  {
   "cell_type": "code",
   "execution_count": null,
   "metadata": {
    "collapsed": true,
    "scrolled": true
   },
   "outputs": [],
   "source": [
    "crawler.debug_level = 1\n",
    "for i in range(11, 12):#len(urls)):\n",
    "    directory_url = urls[i]\n",
    "    example = examples[i]\n",
    "    print i, directory_url #, example\n",
    "    count, l = crawler.crawl_faculty_list(directory_url, example)\n",
    "    print count, url_check[directory_url]\n",
    "    #for e in l:\n",
    "        #print e[\"href\"]\n",
    "    # assert url_check[directory_url] <= count, \" not beyond\"\n",
    "    for e in l[:5]:\n",
    "        print l.index(e), e.get('href')\n",
    "        # print e.get_text()\n",
    "        x = c.dive_into_page(e)\n",
    "\n",
    "        \n",
    "        # print x['name']\n",
    "        # print x['tags']\n",
    "        print x['website']\n",
    "        # print x['position']"
   ]
  },
  {
   "cell_type": "code",
   "execution_count": null,
   "metadata": {
    "collapsed": true
   },
   "outputs": [],
   "source": [
    "for w in x.split():\n",
    "    if w.isupper():\n",
    "        print w\n",
    "    else:\n",
    "        print w.lower()"
   ]
  },
  {
   "cell_type": "code",
   "execution_count": null,
   "metadata": {
    "collapsed": true
   },
   "outputs": [],
   "source": [
    "import os\n",
    "os.makedirs"
   ]
  },
  {
   "cell_type": "code",
   "execution_count": null,
   "metadata": {
    "collapsed": true
   },
   "outputs": [],
   "source": [
    "import re\n",
    "re.search(\"(position available|looking for [\\w\\s]*students)\", x).group(1)"
   ]
  },
  {
   "cell_type": "code",
   "execution_count": null,
   "metadata": {
    "collapsed": true
   },
   "outputs": [],
   "source": [
    "\n",
    "crawler.debug_level = 0\n",
    "faculty_link = 'http://www.cs.ucf.edu/people/index.php'\n",
    "content, soup = c.open_page(faculty_link)\n",
    "# c.get_research_interests(soup, content, [], faculty_link)\n",
    "node = soup.find(string=re.compile(\"Ulas Bagci\"))\n",
    "print node, node.parent.name, node.parent.get('class')\n",
    "# c.get_open_position(soup, content)"
   ]
  },
  {
   "cell_type": "code",
   "execution_count": null,
   "metadata": {
    "collapsed": true
   },
   "outputs": [],
   "source": [
    "a = soup.find('a', href='http://www.cs.ucf.edu/~bagci')\n",
    "la = a.find_parents()[::-1]"
   ]
  },
  {
   "cell_type": "code",
   "execution_count": null,
   "metadata": {
    "collapsed": true
   },
   "outputs": [],
   "source": [
    "lb = node.find_parents()[::-1]"
   ]
  },
  {
   "cell_type": "code",
   "execution_count": null,
   "metadata": {
    "collapsed": true
   },
   "outputs": [],
   "source": [
    "import cProfile\n",
    "crawler = ResearchCrawler()\n",
    "for url in urls[8:]:\n",
    "    print url\n",
    "\n",
    "    result = crawler.crawl_from_directory(url, examples[urls.index(url)])\n",
    "    print len(result)\n",
    "    print result[0]"
   ]
  },
  {
   "cell_type": "code",
   "execution_count": null,
   "metadata": {
    "collapsed": true
   },
   "outputs": [],
   "source": [
    "\n",
    "import pstats  \n",
    "p = pstats.Stats('prof.log')"
   ]
  },
  {
   "cell_type": "code",
   "execution_count": null,
   "metadata": {
    "collapsed": true
   },
   "outputs": [],
   "source": [
    "p.sort_stats('cumtime')\n",
    "p.print_stats()"
   ]
  },
  {
   "cell_type": "code",
   "execution_count": null,
   "metadata": {
    "collapsed": true
   },
   "outputs": [],
   "source": []
  }
 ],
 "metadata": {
  "kernelspec": {
   "display_name": "Python 2",
   "language": "python",
   "name": "python2"
  },
  "language_info": {
   "codemirror_mode": {
    "name": "ipython",
    "version": 2
   },
   "file_extension": ".py",
   "mimetype": "text/x-python",
   "name": "python",
   "nbconvert_exporter": "python",
   "pygments_lexer": "ipython2",
   "version": "2.7.12"
  }
 },
 "nbformat": 4,
 "nbformat_minor": 2
}
