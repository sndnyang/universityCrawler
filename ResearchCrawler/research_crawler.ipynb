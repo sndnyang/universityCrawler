{
 "cells": [
  {
   "cell_type": "code",
   "execution_count": 1,
   "metadata": {
    "collapsed": true
   },
   "outputs": [],
   "source": [
    "import sys\n",
    "sys.path.append(r\"G:\\project\\map\\wsgi\\mindmap\\oversea\")"
   ]
  },
  {
   "cell_type": "code",
   "execution_count": 2,
   "metadata": {
    "collapsed": true
   },
   "outputs": [],
   "source": [
    "import trim_models\n",
    "reload(trim_models)\n",
    "from trim_models import *"
   ]
  },
  {
   "cell_type": "code",
   "execution_count": 14,
   "metadata": {},
   "outputs": [
    {
     "name": "stdout",
     "output_type": "stream",
     "text": [
      "Illinois Institute of Technology (IIT Chicago)\n",
      "Binghamton University(Binghamton)\n",
      "Colorado School of Mines (CSM Mines)\n",
      "University of Nevada - Reno(UNR)\n",
      "University of Central Florida (UCF)\n",
      "Southern Illinois University Carbondale(SIUC)\n",
      "University of Kansas (U. Kansas)\n",
      "Mississippi State University (Missi. SU)\n",
      "Ball State University (Ball State)\n",
      "Washington State University (Wshgton SU)\n",
      "The City College of New York, CUNY (CCNY)\n",
      "Colorado School of Mines (CSM Mines)\n",
      "University of Pittsburgh (UPitt)\n",
      "University of Pittsburgh (UPitt)\n",
      "Texas Tech University (TTU Whitcre)\n",
      "Virginia Commonwealth University (VCU)\n",
      "Cleveland State University (Cleveland)\n",
      "University of South Florida (USF)\n",
      "University of Louisiana at Lafayette (U.SW Louisi)\n",
      "University of South Carolina (U. South Car)\n",
      "University of Central Florida (UCF)\n",
      "University of Kansas (U. Kansas)\n",
      "Iowa State University (Iowa State)\n",
      "Illinois Institute of Technology (IIT Chicago)\n",
      "University of Massachusetts Amherst(UMA)\n",
      "Colorado State University (Col.SU)\n",
      "Old Dominion University (ODU)\n",
      "Georgia State University (GSU)\n",
      "University of Connecticut (UConn)\n",
      "University of Connecticut (UConn)\n",
      "University of Arkansas at Little Rock (UALR)\n",
      "Temple University (Temple Uni)\n",
      "Arizona State University (ASU)\n",
      "University of Massachusetts, Boston (UMB)\n"
     ]
    }
   ],
   "source": [
    "task_list = CrawlTask.query.all()\n",
    "urls = []\n",
    "examples = []\n",
    "for task in task_list:\n",
    "    print task.school\n",
    "    urls.append(task.school_url)\n",
    "    examples.append(task.example)"
   ]
  },
  {
   "cell_type": "code",
   "execution_count": 13,
   "metadata": {
    "collapsed": true
   },
   "outputs": [],
   "source": [
    "\"\"\"urls = ['http://cs.mines.edu/CS-Faculty',\n",
    "            'http://science.iit.edu/computer-science/people/faculty',\n",
    "            'http://cms.bsu.edu/academics/collegesanddepartments/computerscience/facultyandstaff/faculty',\n",
    "            'http://www.memphis.edu/cs/people/index.php',\n",
    "            'http://www.smu.edu/Lyle/Departments/CSE/People/Faculty',\n",
    "            'https://www.csuohio.edu/engineering/eecs/faculty-staff',\n",
    "            'http://computerscience.engineering.unt.edu/content/faculty',\n",
    "            'https://www.odu.edu/compsci/research',\n",
    "            'http://www.cs.ucf.edu/people/index.php',\n",
    "            'https://www.binghamton.edu/cs/people/faculty-and-staff.html',\n",
    "            'http://www.lsu.edu/eng/ece/people/index.php',\n",
    "        'http://www.uwyo.edu/cosc/cosc-directory/',\n",
    "        'http://www.cs.siu.edu/faculty-staff/continuing_faculty.php',\n",
    "        'https://www.uml.edu/Sciences/computer-science/faculty/',\n",
    "        'http://cs.gsu.edu/role/faculty/',\n",
    "        'http://www.eecs.ku.edu/people/faculty',\n",
    "        'http://www.cs.iastate.edu/people',\n",
    "        'http://www.sc.edu/study/colleges_schools/engineering_and_computing/study/areas_of_study/computer_science_and_engineering/our_people/index.php',\n",
    "        'http://cs.mst.edu/facultystaffandfacilities/facultydirectory/',\n",
    "        'https://www.lsu.edu/eng/cse/people/faculty/index.php',\n",
    "        'http://www.cse.msstate.edu/People/Faculty/faculty-staff.php',\n",
    "        'http://soc.fit.edu/faculty-and-staff.php',\n",
    "        'http://www.mtu.edu/cs/department/faculty-staff/',\n",
    "        'https://www.ccny.cuny.edu/people?cat=All&school=21&dept=68',\n",
    "        'https://www.cise.ufl.edu/people/faculty',\n",
    "        'http://www.depts.ttu.edu/cs/faculty/',\n",
    "        'http://www.engineering.pitt.edu/Departments/Electrical-Computer/Faculty/',\n",
    "        'https://egr.vcu.edu/departments/computer/people/faculty/',\n",
    "        'http://cs.utdallas.edu/people/faculty/',\n",
    "        'http://www.usf.edu/engineering/cse/people/index.aspx',\n",
    "            ]\n",
    "\n",
    "examples = ['https://inside.mines.edu/CS-Faculty-and-Staff/TracyCamp',\n",
    "            'http://science.iit.edu/people/faculty/eunice-santos',\n",
    "            'http://cms.bsu.edu/academics/collegesanddepartments/computerscience/facultyandstaff/faculty/buispaul',\n",
    "            'http://www.memphis.edu/cs/people/faculty_pages/william-baggett.php',\n",
    "            'http://www.smu.edu/Lyle/Departments/CSE/People/Faculty/ThorntonMitchell',\n",
    "            'https://www.csuohio.edu/engineering/charles-k-alexander-professor',\n",
    "            'http://www.cse.unt.edu/~rakl',\n",
    "            'https://www.odu.edu/directory/people/a/achernik',\n",
    "            'http://www.cs.ucf.edu/~bagci',\n",
    "            'https://www.binghamton.edu/cs/people/kchiu.html',\n",
    "            'http://www.lsu.edu/eng/ece/people/Faculty/brown.php',\n",
    "            'http://www.uwyo.edu/cosc/cosc-directory/jlc/index.html',\n",
    "            'http://www.cs.siu.edu/~abosu',\n",
    "            'https://www.uml.edu/Sciences/computer-science/faculty/levkowitz-haim.aspx',\n",
    "            'http://cs.gsu.edu/profile/rafal-angryk/',\n",
    "            'http://people.ku.edu/~agah/',\n",
    "            'http://www.cs.iastate.edu/people/pavan-aduri',\n",
    "            'http://www.sc.edu/study/colleges_schools/engineering_and_computing/faculty-staff/jasonbakos.php',\n",
    "            'http://cs.mst.edu/facultystaffandfacilities/jiang/',\n",
    "            'https://www.lsu.edu/eng/cse/people/faculty/karki.php',\n",
    "            'http://www.cse.msstate.edu/People/Faculty/rikk-anderson.php',\n",
    "            'http://www.fit.edu/faculty/profiles/profile.php?tracks=wallen',\n",
    "            'http://www.mtu.edu/cs/department/faculty-staff/faculty/brown/',\n",
    "            'https://www.ccny.cuny.edu/profiles/michael-anshel',\n",
    "            'https://www.cise.ufl.edu/people/faculty/lanthony',\n",
    "            'http://www.depts.ttu.edu/CS/faculty/faculty.php?name=Yong%20Chen',\n",
    "            'http://www.engineering.pitt.edu/Departments/Electrical-Computer/Faculty/George,-Alan-D-/',\n",
    "            'http://egr.vcu.edu/directory/tomasz.arodz/',\n",
    "            'http://cs.utdallas.edu/?p=2507',\n",
    "            'http://www.usf.edu/engineering/cse/people/andujar-marvin.aspx',\n",
    "            ]\"\"\"\n",
    "\n",
    "url_check = {'http://cs.mines.edu/CS-Faculty': 15,\n",
    "             'http://science.iit.edu/computer-science/people/faculty': 52,\n",
    "             'http://cms.bsu.edu/academics/collegesanddepartments/computerscience/facultyandstaff/faculty': 19,\n",
    "             'http://www.memphis.edu/cs/people/index.php': 16,\n",
    "             'http://www.smu.edu/Lyle/Departments/CSE/People/Faculty': 17,\n",
    "             'https://www.csuohio.edu/engineering/eecs/faculty-staff': 32,\n",
    "             'http://computerscience.engineering.unt.edu/content/faculty': 34,\n",
    "             'https://www.odu.edu/compsci/research': 15,\n",
    "             'http://www.cs.ucf.edu/people/index.php': 54,\n",
    "             'https://www.binghamton.edu/cs/people/faculty-and-staff.html': 33,\n",
    "             'http://www.lsu.edu/eng/ece/people/index.php': 34,\n",
    "             'http://www.uwyo.edu/cosc/cosc-directory/': 11,\n",
    "             'http://www.cs.siu.edu/faculty-staff/continuing_faculty.php': 10,\n",
    "             'https://www.uml.edu/Sciences/computer-science/faculty/': 18,\n",
    "             'http://cs.gsu.edu/role/faculty/': 31,\n",
    "             'http://www.eecs.ku.edu/people/faculty': 56,\n",
    "             'http://www.cs.iastate.edu/people': 51,\n",
    "             'http://www.sc.edu/study/colleges_schools/engineering_and_computing/study/areas_of_study/computer_science_and_engineering/our_people/index.php': 44,\n",
    "             'http://cs.mst.edu/facultystaffandfacilities/facultydirectory/': 30,\n",
    "             'https://www.lsu.edu/eng/cse/people/faculty/index.php': 32,\n",
    "             'http://www.cse.msstate.edu/People/Faculty/faculty-staff.php': 21,\n",
    "             'http://soc.fit.edu/faculty-and-staff.php': 14,\n",
    "             'http://www.mtu.edu/cs/department/faculty-staff/': 27,\n",
    "             'https://www.ccny.cuny.edu/people?cat=All&school=21&dept=68': 10,\n",
    "             'https://www.cise.ufl.edu/people/faculty': 1,\n",
    "             'http://www.depts.ttu.edu/cs/faculty/': 16,\n",
    "             'http://www.engineering.pitt.edu/Departments/Electrical-Computer/Faculty/': 20,\n",
    "             'https://egr.vcu.edu/departments/computer/people/faculty/': 5,\n",
    "             'http://cs.utdallas.edu/people/faculty/': 1,\n",
    "             'http://www.usf.edu/engineering/cse/people/index.aspx': 10,\n",
    "             }"
   ]
  },
  {
   "cell_type": "code",
   "execution_count": 26,
   "metadata": {},
   "outputs": [
    {
     "data": {
      "text/plain": [
       "<module 'crawler' from 'G:\\project\\map\\wsgi\\mindmap\\oversea\\crawler.pyc'>"
      ]
     },
     "execution_count": 26,
     "metadata": {},
     "output_type": "execute_result"
    }
   ],
   "source": [
    "\n",
    "import crawler\n",
    "reload(crawler)\n"
   ]
  },
  {
   "cell_type": "code",
   "execution_count": 27,
   "metadata": {
    "scrolled": true
   },
   "outputs": [
    {
     "name": "stdout",
     "output_type": "stream",
     "text": [
      "33\n",
      "33 https://www.cs.umb.edu/people/faculty/full_time/\n",
      "13 https://www.cs.umb.edu/people/Bo_Sheng/\n",
      "[u'\\u2192 bo sheng', u'bo sheng', u'assistant professor', u'3 167', u'edu and ~shengbo', u'wireless networks']\n"
     ]
    }
   ],
   "source": [
    "def test_single(i, start = None):\n",
    "    directory_url = urls[i]\n",
    "    example = examples[i]\n",
    "    print i, directory_url #, example\n",
    "    c = crawler.ResearchCrawler(directory_url, example)\n",
    "    count, l = c.crawl_faculty_list(directory_url, example)\n",
    "    # print count, url_check[directory_url]\n",
    "    # print c.key_words[u'一段研究兴趣的起始词']\n",
    "    #for e in l:\n",
    "    #    print e.get(\"class\"), e.parent.get(\"class\")\n",
    "    #assert url_check[directory_url] <= count, \" not beyond\"\n",
    "    faculty_list = []\n",
    "    \n",
    "    if start is None:\n",
    "        end = len(l)\n",
    "    else:\n",
    "        end = start + 1\n",
    "        \n",
    "    for e in l[start:end]:\n",
    "        print l.index(e), e.get('href')\n",
    "        # print e.get_text()\n",
    "        x = c.dive_into_page(e, True)\n",
    "        \n",
    "        #print x['name']\n",
    "        print x['tags']\n",
    "        # print x['position']\n",
    "        # print x[u'招生意向说明部分原文']\n",
    "        #return c, e\n",
    "        #print x['link']\n",
    "        # print x['website']\n",
    "        # print x['source_name']\n",
    "        #faculty_list.append(x)\n",
    "    #return faculty_list, c\n",
    "\n",
    "crawler.debug_level = \" \" + \" open website\"\n",
    "# faculty_list, c = test_single(12)`\n",
    "name = 'umb'\n",
    "index = 13\n",
    "for i in range(len(urls)):\n",
    "    if urls[i].find(name) > 1:\n",
    "        print i\n",
    "        t = test_single(i, index)"
   ]
  },
  {
   "cell_type": "code",
   "execution_count": 12,
   "metadata": {},
   "outputs": [
    {
     "name": "stdout",
     "output_type": "stream",
     "text": [
      "34\n",
      "30\n"
     ]
    }
   ],
   "source": [
    "print len(urls) \n",
    "print len(examples)"
   ]
  },
  {
   "cell_type": "code",
   "execution_count": 42,
   "metadata": {},
   "outputs": [
    {
     "data": {
      "text/plain": [
       "'http://www.colostate.edu/'"
      ]
     },
     "execution_count": 42,
     "metadata": {},
     "output_type": "execute_result"
    }
   ],
   "source": [
    "import urlparse\n",
    "\n",
    "x = \"http://www.cs.colostate.edu/~ross/\"\n",
    "y = \"http://www.colostate.edu/\"\n",
    "urlparse.urljoin(x, y)"
   ]
  },
  {
   "cell_type": "code",
   "execution_count": 55,
   "metadata": {},
   "outputs": [
    {
     "name": "stdout",
     "output_type": "stream",
     "text": [
      "Research</span> Interests</b> &nbsp;&nbsp;&nbsp;&nbsp;&nbsp;\n"
     ]
    }
   ],
   "source": [
    "import urllib2\n",
    "href = \"Research</span> Interests</b> &nbsp;&nbsp;&nbsp;&nbsp;&nbsp;\"\n",
    "href = urllib2.unquote(href.strip())\n",
    "print href"
   ]
  },
  {
   "cell_type": "code",
   "execution_count": null,
   "metadata": {
    "collapsed": true
   },
   "outputs": [],
   "source": [
    "import re"
   ]
  },
  {
   "cell_type": "code",
   "execution_count": 30,
   "metadata": {},
   "outputs": [
    {
     "name": "stdout",
     "output_type": "stream",
     "text": [
      "94\n",
      "62\n"
     ]
    }
   ],
   "source": [
    "name = \"usf\"\n",
    "index_url = \"http://www.usf.edu/\"\n",
    "c = crawler.CollegeCrawler(name, index_url)\n",
    "crawler.debug_level = \" \" + \" \"\n",
    "l = c.crawl_bfs([index_url])\n",
    "print len(l)"
   ]
  },
  {
   "cell_type": "code",
   "execution_count": null,
   "metadata": {
    "collapsed": true
   },
   "outputs": [],
   "source": [
    "import requests\n",
    "index_url = \"http://ualr.edu/computerscience/people/\"\n",
    "r = requests.get(index_url)\n",
    "r.raise_for_status()"
   ]
  },
  {
   "cell_type": "code",
   "execution_count": null,
   "metadata": {
    "collapsed": true
   },
   "outputs": [],
   "source": [
    "import cProfile\n",
    "crawler = ResearchCrawler()\n",
    "for url in urls[8:]:\n",
    "    print url\n",
    "\n",
    "    result = crawler.crawl_from_directory(url, examples[urls.index(url)])\n",
    "    print len(result)\n",
    "    print result[0]"
   ]
  },
  {
   "cell_type": "code",
   "execution_count": null,
   "metadata": {
    "collapsed": true
   },
   "outputs": [],
   "source": [
    "\n",
    "import pstats  \n",
    "p = pstats.Stats('prof.log')"
   ]
  },
  {
   "cell_type": "code",
   "execution_count": null,
   "metadata": {
    "collapsed": true
   },
   "outputs": [],
   "source": [
    "p.sort_stats('cumtime')\n",
    "p.print_stats()"
   ]
  },
  {
   "cell_type": "code",
   "execution_count": null,
   "metadata": {
    "collapsed": true
   },
   "outputs": [],
   "source": []
  }
 ],
 "metadata": {
  "kernelspec": {
   "display_name": "Python 2",
   "language": "python",
   "name": "python2"
  },
  "language_info": {
   "codemirror_mode": {
    "name": "ipython",
    "version": 2
   },
   "file_extension": ".py",
   "mimetype": "text/x-python",
   "name": "python",
   "nbconvert_exporter": "python",
   "pygments_lexer": "ipython2",
   "version": "2.7.12"
  }
 },
 "nbformat": 4,
 "nbformat_minor": 2
}
