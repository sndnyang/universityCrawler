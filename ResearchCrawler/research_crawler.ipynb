{
 "cells": [
  {
   "cell_type": "code",
   "execution_count": 2,
   "metadata": {
    "collapsed": true
   },
   "outputs": [],
   "source": [
    "import sys\n",
    "sys.path.append(r\"G:\\project\\map\\wsgi\\mindmap\\oversea\")"
   ]
  },
  {
   "cell_type": "code",
   "execution_count": 12,
   "metadata": {
    "collapsed": true
   },
   "outputs": [],
   "source": [
    "urls = ['http://cs.mines.edu/CS-Faculty',\n",
    "            'http://science.iit.edu/computer-science/people/faculty',\n",
    "            'http://cms.bsu.edu/academics/collegesanddepartments/computerscience/facultyandstaff/faculty',\n",
    "            'http://www.memphis.edu/cs/people/index.php',\n",
    "            'http://www.smu.edu/Lyle/Departments/CSE/People/Faculty',\n",
    "            'https://www.csuohio.edu/engineering/eecs/faculty-staff',\n",
    "            'http://computerscience.engineering.unt.edu/content/faculty',\n",
    "            'https://www.odu.edu/compsci/research',\n",
    "            'http://www.cs.ucf.edu/people/index.php',\n",
    "            'https://www.binghamton.edu/cs/people/faculty-and-staff.html',\n",
    "            'http://www.lsu.edu/eng/ece/people/index.php',\n",
    "        'http://www.uwyo.edu/cosc/cosc-directory/',\n",
    "        'http://www.cs.siu.edu/faculty-staff/continuing_faculty.php',\n",
    "        'https://www.uml.edu/Sciences/computer-science/faculty/',\n",
    "        'http://cs.gsu.edu/role/faculty/',\n",
    "        'http://www.eecs.ku.edu/people/faculty',\n",
    "        'http://www.cs.iastate.edu/people',\n",
    "        'http://www.sc.edu/study/colleges_schools/engineering_and_computing/study/areas_of_study/computer_science_and_engineering/our_people/index.php',\n",
    "        'http://cs.mst.edu/facultystaffandfacilities/facultydirectory/',\n",
    "        'https://www.lsu.edu/eng/cse/people/faculty/index.php',\n",
    "        'http://www.cse.msstate.edu/People/Faculty/faculty-staff.php',\n",
    "        'http://soc.fit.edu/faculty-and-staff.php',\n",
    "        'http://www.mtu.edu/cs/department/faculty-staff/',\n",
    "        'https://www.ccny.cuny.edu/people?cat=All&school=21&dept=68',\n",
    "            ]\n",
    "examples = ['https://inside.mines.edu/CS-Faculty-and-Staff/TracyCamp',\n",
    "            'http://science.iit.edu/people/faculty/eunice-santos',\n",
    "            'http://cms.bsu.edu/academics/collegesanddepartments/computerscience/facultyandstaff/faculty/buispaul',\n",
    "            'http://www.memphis.edu/cs/people/faculty_pages/william-baggett.php',\n",
    "            'http://www.smu.edu/Lyle/Departments/CSE/People/Faculty/ThorntonMitchell',\n",
    "            'https://www.csuohio.edu/engineering/charles-k-alexander-professor',\n",
    "            'http://www.cse.unt.edu/~rakl',\n",
    "            'https://www.odu.edu/directory/people/a/achernik',\n",
    "            'http://www.cs.ucf.edu/~bagci',\n",
    "            'https://www.binghamton.edu/cs/people/kchiu.html',\n",
    "            'http://www.lsu.edu/eng/ece/people/Faculty/brown.php',\n",
    "            'http://www.uwyo.edu/cosc/cosc-directory/jlc/index.html',\n",
    "            'http://www.cs.siu.edu/~abosu',\n",
    "            'https://www.uml.edu/Sciences/computer-science/faculty/levkowitz-haim.aspx',\n",
    "            'http://cs.gsu.edu/profile/rafal-angryk/',\n",
    "            'http://people.ku.edu/~agah/',\n",
    "            'http://www.cs.iastate.edu/people/pavan-aduri',\n",
    "            'http://www.sc.edu/study/colleges_schools/engineering_and_computing/faculty-staff/jasonbakos.php',\n",
    "            'http://cs.mst.edu/facultystaffandfacilities/jiang/',\n",
    "            'https://www.lsu.edu/eng/cse/people/faculty/karki.php',\n",
    "            'http://www.cse.msstate.edu/People/Faculty/rikk-anderson.php',\n",
    "            'http://www.fit.edu/faculty/profiles/profile.php?tracks=wallen',\n",
    "            'http://www.mtu.edu/cs/department/faculty-staff/faculty/brown/',\n",
    "            'https://www.ccny.cuny.edu/profiles/michael-anshel',\n",
    "            ]\n",
    "\n",
    "url_check = {'http://cs.mines.edu/CS-Faculty': 15,\n",
    "             'http://science.iit.edu/computer-science/people/faculty': 52,\n",
    "             'http://cms.bsu.edu/academics/collegesanddepartments/computerscience/facultyandstaff/faculty': 19,\n",
    "             'http://www.memphis.edu/cs/people/index.php': 16,\n",
    "             'http://www.smu.edu/Lyle/Departments/CSE/People/Faculty': 17,\n",
    "             'https://www.csuohio.edu/engineering/eecs/faculty-staff': 32,\n",
    "             'http://computerscience.engineering.unt.edu/content/faculty': 34,\n",
    "             'https://www.odu.edu/compsci/research': 15,\n",
    "             'http://www.cs.ucf.edu/people/index.php': 54,\n",
    "             'https://www.binghamton.edu/cs/people/faculty-and-staff.html': 33,\n",
    "             'http://www.lsu.edu/eng/ece/people/index.php': 34,\n",
    "             'http://www.uwyo.edu/cosc/cosc-directory/': 11,\n",
    "             'http://www.cs.siu.edu/faculty-staff/continuing_faculty.php': 10,\n",
    "             'https://www.uml.edu/Sciences/computer-science/faculty/': 18,\n",
    "             'http://cs.gsu.edu/role/faculty/': 31,\n",
    "             'http://www.eecs.ku.edu/people/faculty': 56,\n",
    "             'http://www.cs.iastate.edu/people': 51,\n",
    "             'http://www.sc.edu/study/colleges_schools/engineering_and_computing/study/areas_of_study/computer_science_and_engineering/our_people/index.php': 44,\n",
    "             'http://cs.mst.edu/facultystaffandfacilities/facultydirectory/': 30,\n",
    "             'https://www.lsu.edu/eng/cse/people/faculty/index.php': 32,\n",
    "             'http://www.cse.msstate.edu/People/Faculty/faculty-staff.php': 21,\n",
    "             'http://soc.fit.edu/faculty-and-staff.php': 14,\n",
    "             'http://www.mtu.edu/cs/department/faculty-staff/': 27,\n",
    "             'https://www.ccny.cuny.edu/people?cat=All&school=21&dept=68': 10,\n",
    "             \n",
    "             }"
   ]
  },
  {
   "cell_type": "code",
   "execution_count": 31,
   "metadata": {},
   "outputs": [
    {
     "data": {
      "text/plain": [
       "<module 'crawler' from 'G:\\project\\map\\wsgi\\mindmap\\oversea\\crawler.pyc'>"
      ]
     },
     "execution_count": 31,
     "metadata": {},
     "output_type": "execute_result"
    }
   ],
   "source": [
    "\n",
    "import crawler\n",
    "reload(crawler)\n"
   ]
  },
  {
   "cell_type": "code",
   "execution_count": 33,
   "metadata": {
    "scrolled": false
   },
   "outputs": [
    {
     "name": "stdout",
     "output_type": "stream",
     "text": [
      "23 https://www.ccny.cuny.edu/people?cat=All&school=21&dept=68\n",
      "20 10\n",
      "19 https://www.ccny.cuny.edu/profiles/zheng-peng\n",
      "potential name: [u'Zheng', u'Peng', u'Zheng', u'Peng', u'personal']\n",
      " href: #main-content\n",
      " href: #main_header\n",
      " href: /admissions\n",
      " href: /studentlife\n",
      " href: /financialaid\n",
      " href: /registrar\n",
      " href: /towers\n",
      " href: /safety\n",
      " href: /about/offices-services\n",
      " href: /registrar/academic-calendar\n",
      " href: /registrar/bulletins\n",
      " href: /bursar\n",
      " href: http://cisweb.cuny.edu/cunyfirst/videos/training-simulations/Nelnet-Training-Video-Captioned/CUNYFilenetJULY182016.mp4\n",
      " href: https://home.cunyfirst.cuny.edu/psp/cnyepprd/GUEST/HRMS/c/COMMUNITY_ACCESS.CLASS_SEARCH.GBL?FolderPath=PORTAL_ROOT_OBJECT.HC_CLASS_SEARCH_GBL&IsFolder=false&IgnoreParamTempl=FolderPath,IsFolder\n",
      " href: http://support.ccny.cuny.edu/cunyfirst/\n",
      " href: http://central.ccny.cuny.edu\n",
      " href: https://cunyportal.cuny.edu/cpr/authenticate/portal_login.jsp\n",
      " href: https://citymail.ccny.cuny.edu/\n",
      " href: /financialaid\n",
      " href: /about/policies\n",
      " href: /safety\n",
      " href: /about/offices-services\n",
      " href: /registrar\n",
      " href: /housing\n",
      " href: https://www.ccny.cuny.edu/health-and-safety-services\n",
      " href: https://www.ccny.cuny.edu/academicaffairs\n",
      " href: https://www.ccny.cuny.edu/health-and-safety-services\n",
      " href: /registrar/academic-calendar\n",
      " href: /cetl\n",
      " href: https://cunyportal.cuny.edu/cpr/authenticate/portal_login.jsp\n",
      " href: http://support.ccny.cuny.edu/cunyfirst/\n",
      " href: https://webmail.ccny.cuny.edu/owa/\n",
      " href: /facultysenate\n",
      " href: /about/offices-services\n",
      " href: /about/policies\n",
      " href: /safety\n",
      " href: /alumni\n",
      " href: /fund\n",
      " href: /Giving\n",
      " href: /news\n",
      " href: /about/offices-services\n",
      " href: /safety\n",
      " href: https://cunyportal.cuny.edu/cpr/authenticate/portal_login.jsp\n",
      " href: http://support.ccny.cuny.edu/cunyfirst/\n",
      " href: https://cunyccny.askadmissions.net/Vip/Default.aspx\n",
      " href: https://webmail.ccny.cuny.edu/owa/\n",
      " href: https://epermit.cuny.edu/\n",
      " href: /research/cayuse\n",
      " href: https://citymail.ccny.cuny.edu/\n",
      " href: http://central.ccny.cuny.edu\n",
      " href: /user\n",
      " href: https://www.ccny.cuny.edu/academicaffairs\n",
      " href: https://reset.ccny.cuny.edu/\n",
      " href: /information-for\n",
      " href: http://www.youvisit.com/tour/ccny?pl=v\n",
      " href: /library\n",
      " href: /Giving\n",
      " href: /directory\n",
      " href: javascript:void(0)\n",
      " href: javascript:void(0)\n",
      " href: /about\n",
      " href: /about\n",
      " href: /about/mission\n",
      " href: /about/history\n",
      " href: /institutionalresearch\n",
      " href: /ccnygreen\n",
      " href: /features/ccny-celebrates-its-170th-anniversary\n",
      " href: /we-are-one-ccny\n",
      " href: /about/campusmap\n",
      " href: /about/directions\n",
      " href: /about/gettingthere\n",
      " href: /news\n",
      " href: /calendar\n",
      " href: /news/ccny-in-the-news\n",
      " href: https://www.ccny.cuny.edu/communications/media-kit\n",
      " href: /Giving\n",
      " href: /about/offices-services\n",
      " href: /about/administration\n",
      " href: /about/policies\n",
      " href: /academics\n",
      " href: /academics\n",
      " href: /architecture\n",
      " href: /csom\n",
      " href: /colinpowellschool\n",
      " href: /education\n",
      " href: /engineering\n",
      " href: /humanities\n",
      " href: /science\n",
      " href: /academics/areas-of-study\n",
      " href: /academics/areas-of-study\n",
      " href: /registrar\n",
      " href: https://www.ccny.cuny.edu/registrar/academic-calendar\n",
      " href: http://cisweb.cuny.edu/cunyfirst/videos/training-simulations/Nelnet-Training-Video-Captioned/CUNYFilenetJULY182016.mp4\n",
      " href: https://home.cunyfirst.cuny.edu/psp/cnyepprd/GUEST/HRMS/c/COMMUNITY_ACCESS.CLASS_SEARCH.GBL?FolderPath=PORTAL_ROOT_OBJECT.HC_CLASS_SEARCH_GBL&IsFolder=false&IgnoreParamTempl=FolderPath,IsFolder\n",
      " href: /academics/honors\n",
      " href: /gened\n",
      " href: /library\n",
      " href: https://www.ccny.cuny.edu/standards\n",
      " href: /admissions\n",
      " href: /admissions\n",
      " href: https://www.ccny.cuny.edu/admissions/graduate-studies\n",
      " href: /honors\n",
      " href: /financialaid\n",
      " href: /bursar\n",
      " href: http://cisweb.cuny.edu/cunyfirst/videos/training-simulations/Nelnet-Training-Video-Captioned/CUNYFilenetJULY182016.mp4\n",
      " href: /testing\n",
      " href: http://cunyccny.askadmissions.net/Vip/Default.aspx\n",
      " href: /studentaffairs\n",
      " href: /studentaffairs\n",
      " href: /studentlife\n",
      " href: /activities\n",
      " href: /health-wellness\n",
      " href: https://www.ccny.cuny.edu/health-and-safety-services\n",
      " href: /commencement\n",
      " href: /orientation\n",
      " href: /veterans\n",
      " href: http://www.ccnyathletics.com/\n",
      " href: /accessability\n",
      " href: /research\n",
      " href: /research\n",
      " href: /research/centersandinstitutes\n",
      " href: /research/rce\n",
      " href: /research/gsp\n",
      " href: /news/research\n",
      " href: /profiles\n",
      " href: http://www.addthis.com/bookmark.php?v=250&pubid=ra-5004d33f4bf6be10\n",
      " href: /people\n",
      " href: http://www.cuny.edu\n",
      " href: /about/contact\n",
      " href: /about/websiteprivacy\n",
      " href: https://www.facebook.com/pages/The-City-College-of-New-York/170858093839\n",
      " href: https://twitter.com/citycollegeny\n",
      " href: https://instagram.com/ccnycitycollege/\n",
      " href: https://www.youtube.com/user/citycollegeofny\n",
      " href: https://mixpanel.com/f/partner\n",
      " final link: \n",
      "\n"
     ]
    }
   ],
   "source": [
    "def test_single(i):\n",
    "    directory_url = urls[i]\n",
    "    example = examples[i]\n",
    "    print i, directory_url #, example\n",
    "    c = crawler.ResearchCrawler(directory_url, example)\n",
    "    count, l = c.crawl_faculty_list(directory_url, example)\n",
    "    print count, url_check[directory_url]\n",
    "    #for e in l:\n",
    "    #    print e.get(\"class\"), e.parent.get(\"class\")\n",
    "    #assert url_check[directory_url] <= count, \" not beyond\"\n",
    "    faculty_list = []\n",
    "    for e in l[19:]:\n",
    "        print l.index(e), e.get('href')\n",
    "        # print e.get_text()\n",
    "        x = c.dive_into_page(e, True)\n",
    "        \n",
    "        #print x['name']\n",
    "        # print x['tags']\n",
    "        # print x['position']\n",
    "        #return c, e\n",
    "        #print x['link']\n",
    "        print x['website']\n",
    "        # print x['source_name']\n",
    "        #faculty_list.append(x)\n",
    "    #return faculty_list, c\n",
    "\n",
    "crawler.debug_level = \" \" + \" website\"\n",
    "# faculty_list, c = test_single(12)`\n",
    "i = len(urls) - 1\n",
    "t = test_single(i)"
   ]
  },
  {
   "cell_type": "code",
   "execution_count": null,
   "metadata": {
    "collapsed": true
   },
   "outputs": [],
   "source": [
    "import re"
   ]
  },
  {
   "cell_type": "code",
   "execution_count": 30,
   "metadata": {},
   "outputs": [
    {
     "name": "stdout",
     "output_type": "stream",
     "text": [
      "94\n",
      "62\n"
     ]
    }
   ],
   "source": [
    "name = \"usf\"\n",
    "index_url = \"http://www.usf.edu/\"\n",
    "c = crawler.CollegeCrawler(name, index_url)\n",
    "crawler.debug_level = \" \" + \" \"\n",
    "l = c.crawl_bfs([index_url])\n",
    "print len(l)"
   ]
  },
  {
   "cell_type": "code",
   "execution_count": 37,
   "metadata": {},
   "outputs": [
    {
     "data": {
      "text/plain": [
       "True"
      ]
     },
     "execution_count": 37,
     "metadata": {},
     "output_type": "execute_result"
    }
   ],
   "source": [
    "x = \"[TA/RA positions in PhD program] I am looking for self-motivated, creative and hard-working Ph.D. students. Please feel free to email me your CV if you are interested in my research. Missouri S&T; is classified as: Doctoral Universities - Higher Research Activity and is ranked:  #63 (tie) in Engineering Programs (doctorate) according to the 2017 US news ranking and #112 in Computer Science according to US news CS ranking.\"\n",
    "contain_keys(x, t, True)"
   ]
  },
  {
   "cell_type": "code",
   "execution_count": 35,
   "metadata": {},
   "outputs": [
    {
     "data": {
      "text/plain": [
       "True"
      ]
     },
     "execution_count": 35,
     "metadata": {},
     "output_type": "execute_result"
    }
   ],
   "source": [
    "t = [\"position available\", \"available for\", \"looking for [a-zA-Z- \\.,]*students\", \"Interested PhD\", \"recruiting\", \"accepting [\\\\w\\\\s]*students\"]\n",
    "\n",
    "contain_keys(x, t, True)"
   ]
  },
  {
   "cell_type": "code",
   "execution_count": 21,
   "metadata": {},
   "outputs": [
    {
     "data": {
      "text/plain": [
       "'http://web.cse.msstate.edu/%7Eszhang/'"
      ]
     },
     "execution_count": 21,
     "metadata": {},
     "output_type": "execute_result"
    }
   ],
   "source": [
    "import HTMLParser\n",
    "html_parser = HTMLParser.HTMLParser()\n",
    "s = 'http://web.cse.msstate.edu/%7Eszhang/'\n",
    "html_parser.unescape(s)"
   ]
  },
  {
   "cell_type": "code",
   "execution_count": 36,
   "metadata": {},
   "outputs": [
    {
     "data": {
      "text/plain": [
       "True"
      ]
     },
     "execution_count": 36,
     "metadata": {},
     "output_type": "execute_result"
    }
   ],
   "source": [
    "contain_keys(x, t, True)"
   ]
  },
  {
   "cell_type": "code",
   "execution_count": null,
   "metadata": {
    "collapsed": true
   },
   "outputs": [],
   "source": [
    "anchors = find_all_anchor(soup)\n",
    "faculty_page, mail, page_name = c.get_personal_website(anchors, \n",
    "        faculty_link, person['name'])\n"
   ]
  },
  {
   "cell_type": "code",
   "execution_count": null,
   "metadata": {
    "collapsed": true
   },
   "outputs": [],
   "source": [
    "faculty_page"
   ]
  },
  {
   "cell_type": "code",
   "execution_count": null,
   "metadata": {
    "collapsed": true
   },
   "outputs": [],
   "source": [
    "page_c, page_soup = c.open_page(faculty_page)"
   ]
  },
  {
   "cell_type": "code",
   "execution_count": null,
   "metadata": {
    "collapsed": true
   },
   "outputs": [],
   "source": [
    "words = \"(%s)\" % '|'.join(e for e in c.key_words[u'其他可能的研究兴趣短语'])\n",
    "\n",
    "result = soup.find_all(string=re.compile(words, re.I))\n",
    "print len(result)"
   ]
  },
  {
   "cell_type": "code",
   "execution_count": null,
   "metadata": {
    "collapsed": true
   },
   "outputs": [],
   "source": [
    "node = result[0]"
   ]
  },
  {
   "cell_type": "code",
   "execution_count": null,
   "metadata": {
    "collapsed": true
   },
   "outputs": [],
   "source": [
    "re.sub(r\"(<\\w+[^>]*>)\", \".\", \"<strong>\", re.M)"
   ]
  },
  {
   "cell_type": "code",
   "execution_count": null,
   "metadata": {
    "collapsed": true
   },
   "outputs": [],
   "source": [
    "pattern = re.compile(r\"(<.+>)\")\n",
    "z = pattern.sub(\".\", unicode(node).strip(), re.M)"
   ]
  },
  {
   "cell_type": "code",
   "execution_count": null,
   "metadata": {
    "collapsed": true
   },
   "outputs": [],
   "source": [
    "pattern.sub(\".\", z,count=100)"
   ]
  },
  {
   "cell_type": "code",
   "execution_count": null,
   "metadata": {
    "collapsed": true
   },
   "outputs": [],
   "source": [
    "import os\n",
    "import json\n",
    "def save_case(faclist, c):\n",
    "    dir_name = \"test_case/\" + c.university_name\n",
    "    if not os.path.isdir(dir_name):\n",
    "        os.makedirs(dir_name)\n",
    "    with open(os.path.join(dir_name, \"data.json\"), \"w\") as fp:\n",
    "        json.dump(faclist, fp)\n",
    "save_case(faculty_list, c)"
   ]
  },
  {
   "cell_type": "code",
   "execution_count": null,
   "metadata": {
    "collapsed": true
   },
   "outputs": [],
   "source": [
    "x = \"I am looking for hardworking, creative, and self-motivated graduate (PhD & Master’s) and undergraduate students with interests in artificial intelligence, machine learning, and robotics.\"\n",
    "\n",
    "print re.search(\"looking for [\\\\w\\\\s\\\\.-]*students\", x)"
   ]
  },
  {
   "cell_type": "code",
   "execution_count": null,
   "metadata": {
    "collapsed": true,
    "scrolled": true
   },
   "outputs": [],
   "source": [
    "crawler.debug_level = 1\n",
    "for i in range(11, 12):#len(urls)):\n",
    "    directory_url = urls[i]\n",
    "    example = examples[i]\n",
    "    print i, directory_url #, example\n",
    "    count, l = crawler.crawl_faculty_list(directory_url, example)\n",
    "    print count, url_check[directory_url]\n",
    "    #for e in l:\n",
    "        #print e[\"href\"]\n",
    "    # assert url_check[directory_url] <= count, \" not beyond\"\n",
    "    for e in l[:5]:\n",
    "        print l.index(e), e.get('href')\n",
    "        # print e.get_text()\n",
    "        x = c.dive_into_page(e)\n",
    "\n",
    "        \n",
    "        # print x['name']\n",
    "        # print x['tags']\n",
    "        print x['website']\n",
    "        # print x['position']"
   ]
  },
  {
   "cell_type": "code",
   "execution_count": null,
   "metadata": {
    "collapsed": true
   },
   "outputs": [],
   "source": [
    "for w in x.split():\n",
    "    if w.isupper():\n",
    "        print w\n",
    "    else:\n",
    "        print w.lower()"
   ]
  },
  {
   "cell_type": "code",
   "execution_count": null,
   "metadata": {
    "collapsed": true
   },
   "outputs": [],
   "source": [
    "import os\n",
    "os.makedirs"
   ]
  },
  {
   "cell_type": "code",
   "execution_count": null,
   "metadata": {
    "collapsed": true
   },
   "outputs": [],
   "source": [
    "import re\n",
    "re.search(\"(position available|looking for [\\w\\s]*students)\", x).group(1)"
   ]
  },
  {
   "cell_type": "code",
   "execution_count": null,
   "metadata": {
    "collapsed": true
   },
   "outputs": [],
   "source": [
    "\n",
    "crawler.debug_level = 0\n",
    "faculty_link = 'http://www.cs.ucf.edu/people/index.php'\n",
    "content, soup = c.open_page(faculty_link)\n",
    "# c.get_research_interests(soup, content, [], faculty_link)\n",
    "node = soup.find(string=re.compile(\"Ulas Bagci\"))\n",
    "print node, node.parent.name, node.parent.get('class')\n",
    "# c.get_open_position(soup, content)"
   ]
  },
  {
   "cell_type": "code",
   "execution_count": null,
   "metadata": {
    "collapsed": true
   },
   "outputs": [],
   "source": [
    "a = soup.find('a', href='http://www.cs.ucf.edu/~bagci')\n",
    "la = a.find_parents()[::-1]"
   ]
  },
  {
   "cell_type": "code",
   "execution_count": null,
   "metadata": {
    "collapsed": true
   },
   "outputs": [],
   "source": [
    "lb = node.find_parents()[::-1]"
   ]
  },
  {
   "cell_type": "code",
   "execution_count": null,
   "metadata": {
    "collapsed": true
   },
   "outputs": [],
   "source": [
    "import cProfile\n",
    "crawler = ResearchCrawler()\n",
    "for url in urls[8:]:\n",
    "    print url\n",
    "\n",
    "    result = crawler.crawl_from_directory(url, examples[urls.index(url)])\n",
    "    print len(result)\n",
    "    print result[0]"
   ]
  },
  {
   "cell_type": "code",
   "execution_count": null,
   "metadata": {
    "collapsed": true
   },
   "outputs": [],
   "source": [
    "\n",
    "import pstats  \n",
    "p = pstats.Stats('prof.log')"
   ]
  },
  {
   "cell_type": "code",
   "execution_count": null,
   "metadata": {
    "collapsed": true
   },
   "outputs": [],
   "source": [
    "p.sort_stats('cumtime')\n",
    "p.print_stats()"
   ]
  },
  {
   "cell_type": "code",
   "execution_count": null,
   "metadata": {
    "collapsed": true
   },
   "outputs": [],
   "source": []
  }
 ],
 "metadata": {
  "kernelspec": {
   "display_name": "Python 2",
   "language": "python",
   "name": "python2"
  },
  "language_info": {
   "codemirror_mode": {
    "name": "ipython",
    "version": 2
   },
   "file_extension": ".py",
   "mimetype": "text/x-python",
   "name": "python",
   "nbconvert_exporter": "python",
   "pygments_lexer": "ipython2",
   "version": "2.7.12"
  }
 },
 "nbformat": 4,
 "nbformat_minor": 2
}
