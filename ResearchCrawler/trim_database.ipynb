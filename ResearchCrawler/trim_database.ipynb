{
 "cells": [
  {
   "cell_type": "code",
   "execution_count": null,
   "metadata": {
    "collapsed": true,
    "scrolled": false
   },
   "outputs": [],
   "source": [
    "import trim_interests\n",
    "reload(trim_interests)\n",
    "from trim_interests import *"
   ]
  },
  {
   "cell_type": "code",
   "execution_count": null,
   "metadata": {
    "collapsed": true
   },
   "outputs": [],
   "source": [
    "tag_set = gen_tag_set()\n",
    "tag_set.sort(key=lambda x:x['name'])\n",
    "stem_shortest = get_shortest_stem()\n",
    "update_shortest_stem(tag_set, stem_shortest)"
   ]
  },
  {
   "cell_type": "code",
   "execution_count": null,
   "metadata": {
    "collapsed": true
   },
   "outputs": [],
   "source": [
    "t = \"signal\"\n",
    "generate_stem(t, stem_shortest)"
   ]
  },
  {
   "cell_type": "code",
   "execution_count": null,
   "metadata": {
    "collapsed": true
   },
   "outputs": [],
   "source": [
    "pattern= r\"complex\\b\"\n",
    "d = 0\n",
    "delete_tag_by_pattern(tag_set, pattern, d)"
   ]
  },
  {
   "cell_type": "code",
   "execution_count": null,
   "metadata": {
    "collapsed": true
   },
   "outputs": [],
   "source": [
    "query_name(tag_set, \"big data mine\")"
   ]
  },
  {
   "cell_type": "code",
   "execution_count": null,
   "metadata": {
    "collapsed": true
   },
   "outputs": [],
   "source": [
    "import nltk\n",
    "s = nltk.stem.SnowballStemmer('english')\n",
    "s.stem(\"user\")"
   ]
  },
  {
   "cell_type": "code",
   "execution_count": null,
   "metadata": {
    "collapsed": true
   },
   "outputs": [],
   "source": [
    "db.session.rollback()"
   ]
  },
  {
   "cell_type": "code",
   "execution_count": null,
   "metadata": {
    "collapsed": true
   },
   "outputs": [],
   "source": [
    "pattern= \"radar\"\n",
    "for t in tag_set:\n",
    "    if re.search(\"^\\w+$\", t['name']):\n",
    "        print t['name'], t['up'], t['zh']\n",
    "        # r = raw_input(\"edit?(y/n)[n]\")\n",
    "        #print r\n",
    "        # if t['up'] and t['zh']\n",
    "        # if t != pattern:\n",
    "            # print 'change'\n",
    "            # merge_word(t, pattern)"
   ]
  },
  {
   "cell_type": "code",
   "execution_count": null,
   "metadata": {
    "collapsed": true
   },
   "outputs": [],
   "source": [
    "process()"
   ]
  },
  {
   "cell_type": "code",
   "execution_count": null,
   "metadata": {
    "collapsed": true
   },
   "outputs": [],
   "source": [
    "w = \"memory optimization\"\n",
    "stems = generate_stem(w, stem_shortest)\n",
    "merge_word(w, stems)"
   ]
  },
  {
   "cell_type": "code",
   "execution_count": null,
   "metadata": {
    "collapsed": true
   },
   "outputs": [],
   "source": [
    "print stems"
   ]
  },
  {
   "cell_type": "code",
   "execution_count": null,
   "metadata": {
    "collapsed": true
   },
   "outputs": [],
   "source": [
    "with open(\"interests.log\") as fp:\n",
    "    content = fp.readlines()"
   ]
  },
  {
   "cell_type": "code",
   "execution_count": null,
   "metadata": {
    "collapsed": true
   },
   "outputs": [],
   "source": [
    "def contain_keys(text, keys):\n",
    "    for e in keys:\n",
    "        if not re.search(r\"\\b%s\\b\" % e, text):\n",
    "            return False\n",
    "    return True\n"
   ]
  },
  {
   "cell_type": "code",
   "execution_count": null,
   "metadata": {
    "collapsed": true
   },
   "outputs": [],
   "source": [
    "for l in content:\n",
    "    print l.strip()\n",
    "    for k in fre_set:\n",
    "        if contain_keys(l, k[0]) and l != ' '.join(k[0]):\n",
    "            print ' ' * 8,  ' '.join(k[0]), k[1]"
   ]
  },
  {
   "cell_type": "code",
   "execution_count": null,
   "metadata": {
    "collapsed": true
   },
   "outputs": [],
   "source": []
  },
  {
   "cell_type": "code",
   "execution_count": null,
   "metadata": {
    "collapsed": true
   },
   "outputs": [],
   "source": [
    "tags = []\n",
    "for l in tag_set:\n",
    "    tags.append(re.findall(\"(\\w+)\", l['name']))"
   ]
  },
  {
   "cell_type": "code",
   "execution_count": null,
   "metadata": {
    "collapsed": true
   },
   "outputs": [],
   "source": [
    "print len(tags)\n",
    "print tags[0]"
   ]
  },
  {
   "cell_type": "code",
   "execution_count": null,
   "metadata": {
    "collapsed": true
   },
   "outputs": [],
   "source": [
    "from collections import defaultdict\n",
    "from itertools import combinations\n",
    "def PCY(tags):\n",
    "    bucket = defaultdict(int)\n",
    "    for tag in tags:\n",
    "        for i in range(1, len(tag)):\n",
    "            for s in combinations(tag, i):\n",
    "                bucket[s] += 1\n",
    "    return bucket\n",
    "bucket = PCY(tags)"
   ]
  },
  {
   "cell_type": "code",
   "execution_count": null,
   "metadata": {
    "collapsed": true
   },
   "outputs": [],
   "source": [
    "print len(bucket)"
   ]
  },
  {
   "cell_type": "code",
   "execution_count": null,
   "metadata": {
    "collapsed": true
   },
   "outputs": [],
   "source": [
    "temp = sorted(filter(lambda x: x[1] > 1, bucket.items()), key=lambda x:x[1], reverse=True)\n",
    "fre_item = filter(lambda x: len(x[0]) == 1, temp)\n",
    "fre_set = filter(lambda x: len(x[0]) > 1, temp)\n"
   ]
  },
  {
   "cell_type": "code",
   "execution_count": null,
   "metadata": {
    "collapsed": true
   },
   "outputs": [],
   "source": [
    "print len(fre_item), len(fre_set)"
   ]
  },
  {
   "cell_type": "code",
   "execution_count": null,
   "metadata": {
    "collapsed": true
   },
   "outputs": [],
   "source": [
    "print len(fre_item), len(fre_set)"
   ]
  },
  {
   "cell_type": "code",
   "execution_count": null,
   "metadata": {
    "collapsed": true
   },
   "outputs": [],
   "source": [
    "import json\n",
    "with open(\"1-1.key.json\", 'w') as fp:\n",
    "    json.dump(maps, fp)"
   ]
  },
  {
   "cell_type": "code",
   "execution_count": null,
   "metadata": {
    "collapsed": true
   },
   "outputs": [],
   "source": [
    "with open(\"1-1.key.json\") as fp:\n",
    "    maps = json.load(fp, strict=False)"
   ]
  },
  {
   "cell_type": "code",
   "execution_count": null,
   "metadata": {
    "collapsed": true
   },
   "outputs": [],
   "source": [
    "import nltk"
   ]
  },
  {
   "cell_type": "code",
   "execution_count": null,
   "metadata": {
    "collapsed": true
   },
   "outputs": [],
   "source": [
    "nltk.set_proxy(\"socks://127.0.0.1:1081\")\n",
    "nltk.download_gui()"
   ]
  },
  {
   "cell_type": "code",
   "execution_count": null,
   "metadata": {
    "collapsed": true
   },
   "outputs": [],
   "source": [
    "for k in maps:\n",
    "    text = nltk.word_tokenize(k)\n",
    "    print k, nltk.pos_tag(text)"
   ]
  },
  {
   "cell_type": "code",
   "execution_count": null,
   "metadata": {
    "collapsed": true
   },
   "outputs": [],
   "source": [
    "for k, v in fre_set:\n",
    "    print ' '.join(k), v"
   ]
  },
  {
   "cell_type": "code",
   "execution_count": null,
   "metadata": {
    "collapsed": true
   },
   "outputs": [],
   "source": [
    "sub = []\n",
    "for i in temp:\n",
    "    wi = ' '.join(i[0])\n",
    "    si = set(i[0])\n",
    "    for j in temp:\n",
    "        wj = ' '.join(j[0])\n",
    "        sj = set(j[0])\n",
    "        if wi == wj or len(i[0]) > len(j[0]):\n",
    "            continue\n",
    "        if si.issubset(sj) and i[1] == j[1]:\n",
    "            sub.append(i)\n",
    "            break\n",
    "            "
   ]
  },
  {
   "cell_type": "code",
   "execution_count": null,
   "metadata": {
    "collapsed": true
   },
   "outputs": [],
   "source": [
    "import models\n",
    "import trim_interests\n",
    "reload(models)\n",
    "reload(trim_interests)\n",
    "from models import Professor, Interests, db, University\n",
    "from trim_interests import *"
   ]
  },
  {
   "cell_type": "code",
   "execution_count": null,
   "metadata": {
    "collapsed": true
   },
   "outputs": [],
   "source": [
    "db.session.rollback()"
   ]
  },
  {
   "cell_type": "code",
   "execution_count": null,
   "metadata": {
    "collapsed": true
   },
   "outputs": [],
   "source": [
    "convert_stem(tag_set, stem_shortest)"
   ]
  },
  {
   "cell_type": "code",
   "execution_count": null,
   "metadata": {
    "collapsed": true
   },
   "outputs": [],
   "source": [
    "tag_set = gen_tag_set()\n",
    "stem_shortest = get_shortest_stem()\n",
    "update_shortest_stem(tag_set, stem_shortest)"
   ]
  },
  {
   "cell_type": "code",
   "execution_count": null,
   "metadata": {
    "collapsed": true
   },
   "outputs": [],
   "source": [
    "tag_set = gen_tag_set()"
   ]
  },
  {
   "cell_type": "code",
   "execution_count": null,
   "metadata": {
    "collapsed": true
   },
   "outputs": [],
   "source": [
    "tag_set = []\n",
    "results = Interests.query.all()\n",
    "for e in results:\n",
    "    tag_set.append(e.name)\n",
    "print len(tag_set)"
   ]
  },
  {
   "cell_type": "code",
   "execution_count": null,
   "metadata": {
    "collapsed": true
   },
   "outputs": [],
   "source": [
    "tag_set.sort()"
   ]
  },
  {
   "cell_type": "code",
   "execution_count": null,
   "metadata": {
    "collapsed": true
   },
   "outputs": [],
   "source": [
    "print tag_set[:5]"
   ]
  },
  {
   "cell_type": "code",
   "execution_count": null,
   "metadata": {
    "collapsed": true
   },
   "outputs": [],
   "source": [
    "import pandas as pd"
   ]
  },
  {
   "cell_type": "code",
   "execution_count": null,
   "metadata": {
    "collapsed": true
   },
   "outputs": [],
   "source": [
    "data = pd.read_excel('gloss.xls')"
   ]
  },
  {
   "cell_type": "code",
   "execution_count": null,
   "metadata": {
    "collapsed": true
   },
   "outputs": [],
   "source": [
    "len(data)"
   ]
  },
  {
   "cell_type": "code",
   "execution_count": null,
   "metadata": {
    "collapsed": true
   },
   "outputs": [],
   "source": [
    "word_set = data['word']"
   ]
  },
  {
   "cell_type": "code",
   "execution_count": null,
   "metadata": {
    "collapsed": true
   },
   "outputs": [],
   "source": [
    "def abbre_exist(parts):\n",
    "    t = ''.join(e[0] for e in parts[1:])\n",
    "    if t.lower() == parts[0].lower():\n",
    "        return parts[1:]\n",
    "    t = ''.join(e[0] for e in parts[:-1])\n",
    "    if t.lower() == parts[-1].lower():\n",
    "        return parts[:-1]\n",
    "    return parts"
   ]
  },
  {
   "cell_type": "code",
   "execution_count": null,
   "metadata": {
    "collapsed": true
   },
   "outputs": [],
   "source": [
    "best_maps = {}\n",
    "maps = {}\n",
    "for w in tag_set:\n",
    "    parts = re.findall(\"(\\w+)\", w)\n",
    "    parts = abbre_exist(parts)\n",
    "    clean_word = ' '.join(parts)\n",
    "    latter = ' '.join(s.stem(e.lower()) for e in parts)\n",
    "    if latter != w:\n",
    "        # print(\"'%s'  vs  '%s'\" % (w, clean_word))\n",
    "        maps[w] = latter\n",
    "        if latter not in best_maps:\n",
    "            best_maps[latter] = clean_word\n",
    "        if len(best_maps[latter]) > len(clean_word):\n",
    "            print latter\n",
    "            best_maps[latter] = clean_word\n",
    "\n"
   ]
  },
  {
   "cell_type": "code",
   "execution_count": null,
   "metadata": {
    "collapsed": true
   },
   "outputs": [],
   "source": []
  },
  {
   "cell_type": "code",
   "execution_count": null,
   "metadata": {
    "collapsed": true
   },
   "outputs": [],
   "source": [
    "def filter_punctuation(tag_set):\n",
    "    maps = defaultdict(str)\n",
    "    for w in tag_set:\n",
    "        latter = s.stem(e.lower()) for e in re.findall(\"(\\w+)\", w\n",
    "        if latter != w:\n",
    "            print(\"'%s'  vs  '%s'\" % (w, latter))\n",
    "\n",
    "filter_punctuation(tag_set)"
   ]
  },
  {
   "cell_type": "code",
   "execution_count": null,
   "metadata": {
    "collapsed": true
   },
   "outputs": [],
   "source": []
  }
 ],
 "metadata": {
  "kernelspec": {
   "display_name": "Python 2",
   "language": "python",
   "name": "python2"
  },
  "language_info": {
   "codemirror_mode": {
    "name": "ipython",
    "version": 2
   },
   "file_extension": ".py",
   "mimetype": "text/x-python",
   "name": "python",
   "nbconvert_exporter": "python",
   "pygments_lexer": "ipython2",
   "version": "2.7.12"
  }
 },
 "nbformat": 4,
 "nbformat_minor": 2
}
