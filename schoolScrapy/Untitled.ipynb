{
 "cells": [
  {
   "cell_type": "code",
   "execution_count": 1,
   "metadata": {
    "collapsed": true
   },
   "outputs": [],
   "source": [
    "import sys\n",
    "sys.path.append(r\"G:\\project\\map\\wsgi\\mindmap\\oversea\")"
   ]
  },
  {
   "cell_type": "code",
   "execution_count": 15,
   "metadata": {},
   "outputs": [
    {
     "data": {
      "text/plain": [
       "<module 'crawler' from 'G:\\project\\map\\wsgi\\mindmap\\oversea\\crawler.pyc'>"
      ]
     },
     "execution_count": 15,
     "metadata": {},
     "output_type": "execute_result"
    }
   ],
   "source": [
    "\n",
    "import crawler\n",
    "reload(crawler)\n"
   ]
  },
  {
   "cell_type": "code",
   "execution_count": 19,
   "metadata": {},
   "outputs": [
    {
     "name": "stdout",
     "output_type": "stream",
     "text": [
      "None\n"
     ]
    }
   ],
   "source": [
    "z = eval(\"None\")\n",
    "print z"
   ]
  },
  {
   "cell_type": "code",
   "execution_count": 16,
   "metadata": {},
   "outputs": [
    {
     "name": "stdout",
     "output_type": "stream",
     "text": [
      "94\n",
      "http://directory.usf.edu/\n",
      "http://www.usf.edu/academics/index.aspx\n",
      "http://www.usf.edu/academics/colleges.aspx\n",
      "http://www.usf.edu/admission/index.aspx\n",
      "http://www.usf.edu/admission/apply.aspx\n",
      "http://www.usf.edu/admission/cost-to-attend.aspx\n",
      "http://www.usf.edu/admission/scholarships-financial-aid.aspx\n",
      "http://usfbullstix.com/\n",
      "8\n"
     ]
    }
   ],
   "source": [
    "name = \"usf\"\n",
    "index_url = \"http://www.usf.edu/\"\n",
    "c = crawler.CollegeCrawler(name, index_url)\n",
    "crawler.debug_level = \" \" + \" \"\n",
    "l = c.crawl_bfs([index_url])\n",
    "print len(l)"
   ]
  },
  {
   "cell_type": "code",
   "execution_count": 14,
   "metadata": {},
   "outputs": [],
   "source": [
    "urls = []\n",
    "for e in l:\n",
    "    if e['href'] not in urls:\n",
    "        urls.append(e['href'])\n",
    "    else:\n",
    "        l.remove(e)"
   ]
  },
  {
   "cell_type": "code",
   "execution_count": 7,
   "metadata": {},
   "outputs": [
    {
     "name": "stdout",
     "output_type": "stream",
     "text": [
      "8\n"
     ]
    }
   ],
   "source": [
    "print len(l)"
   ]
  }
 ],
 "metadata": {
  "kernelspec": {
   "display_name": "Python 2",
   "language": "python",
   "name": "python2"
  },
  "language_info": {
   "codemirror_mode": {
    "name": "ipython",
    "version": 2
   },
   "file_extension": ".py",
   "mimetype": "text/x-python",
   "name": "python",
   "nbconvert_exporter": "python",
   "pygments_lexer": "ipython2",
   "version": "2.7.12"
  }
 },
 "nbformat": 4,
 "nbformat_minor": 2
}
